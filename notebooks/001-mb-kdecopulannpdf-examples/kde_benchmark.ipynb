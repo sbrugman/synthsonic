{
 "cells": [
  {
   "cell_type": "markdown",
   "metadata": {},
   "source": [
    "### This notebook is used to benchmark the KDECopula model using different datasets from SDGym. The categorical features will be integer encoded."
   ]
  },
  {
   "cell_type": "code",
   "execution_count": 1,
   "metadata": {},
   "outputs": [],
   "source": [
    "%load_ext autoreload\n",
    "%autoreload 2"
   ]
  },
  {
   "cell_type": "code",
   "execution_count": 2,
   "metadata": {},
   "outputs": [],
   "source": [
    "import numpy as np\n",
    "from sdgym import benchmark\n",
    "from sdgym import load_dataset\n",
    "from xgboost import XGBClassifier\n",
    "from sklearn.neural_network import MLPClassifier\n",
    "from src.models.kde_copula_nn_pdf import KDECopulaNNPdf"
   ]
  },
  {
   "cell_type": "code",
   "execution_count": 3,
   "metadata": {},
   "outputs": [],
   "source": [
    "def set_min_max(data, nf):\n",
    "    x_min = [0] * nf\n",
    "    x_max = [1.] * nf\n",
    "    for i in range(0, nf):\n",
    "        x_min[i] = data[:, i].min()\n",
    "        x_max[i] = data[:, i].max()\n",
    "    return x_min, x_max\n",
    "\n",
    "def kde_copula_nn_pdf_synthesizer(real_data, categorical_columns, ordinal_columns):\n",
    "    \n",
    "    n_samples = real_data.shape[0]\n",
    "    n_features = real_data.shape[1]\n",
    "    \n",
    "    assert len(categorical_columns) == 0\n",
    "    assert len(ordinal_columns) == 0\n",
    "    \n",
    "    x_min, x_max = set_min_max(real_data, n_features)\n",
    "    \n",
    "    kde = KDECopulaNNPdf(x_min=x_min, x_max=x_max, rho=0.5, clf=MLPClassifier(random_state=0, max_iter=500, early_stopping=True))\n",
    "    kde = kde.fit(real_data)\n",
    "    \n",
    "    X_gen, sample_weight = kde.sample(n_samples)\n",
    "    return X_gen"
   ]
  },
  {
   "cell_type": "code",
   "execution_count": 4,
   "metadata": {},
   "outputs": [
    {
     "name": "stdout",
     "output_type": "stream",
     "text": [
      "Transforming variables.\n",
      "Fitting and calibrating classifier.\n",
      "Model = rho: 0.5, number of selected non-linear variables: 2\n",
      "Transforming variables.\n",
      "Fitting and calibrating classifier.\n",
      "Model = rho: 0.5, number of selected non-linear variables: 2\n",
      "Transforming variables.\n",
      "Fitting and calibrating classifier.\n",
      "Model = rho: 0.5, number of selected non-linear variables: 2\n"
     ]
    }
   ],
   "source": [
    "scores = benchmark(synthesizers=[kde_copula_nn_pdf_synthesizer], datasets=['grid'])"
   ]
  },
  {
   "cell_type": "code",
   "execution_count": 5,
   "metadata": {},
   "outputs": [
    {
     "data": {
      "text/html": [
       "<div>\n",
       "<style scoped>\n",
       "    .dataframe tbody tr th:only-of-type {\n",
       "        vertical-align: middle;\n",
       "    }\n",
       "\n",
       "    .dataframe tbody tr th {\n",
       "        vertical-align: top;\n",
       "    }\n",
       "\n",
       "    .dataframe thead th {\n",
       "        text-align: right;\n",
       "    }\n",
       "</style>\n",
       "<table border=\"1\" class=\"dataframe\">\n",
       "  <thead>\n",
       "    <tr style=\"text-align: right;\">\n",
       "      <th></th>\n",
       "      <th>grid/syn_likelihood</th>\n",
       "      <th>grid/test_likelihood</th>\n",
       "      <th>timestamp</th>\n",
       "    </tr>\n",
       "  </thead>\n",
       "  <tbody>\n",
       "    <tr>\n",
       "      <th>CLBNSynthesizer</th>\n",
       "      <td>-3.885928</td>\n",
       "      <td>-5.274841</td>\n",
       "      <td>2020-04-12 09:41:35.096775</td>\n",
       "    </tr>\n",
       "    <tr>\n",
       "      <th>CTGANSynthesizer</th>\n",
       "      <td>-9.162882</td>\n",
       "      <td>-5.066747</td>\n",
       "      <td>2020-04-12 09:41:35.096775</td>\n",
       "    </tr>\n",
       "    <tr>\n",
       "      <th>IdentitySynthesizer</th>\n",
       "      <td>-3.476662</td>\n",
       "      <td>-3.503242</td>\n",
       "      <td>2020-04-12 09:41:35.096775</td>\n",
       "    </tr>\n",
       "    <tr>\n",
       "      <th>IndependentSynthesizer</th>\n",
       "      <td>-3.544136</td>\n",
       "      <td>-3.469971</td>\n",
       "      <td>2020-04-12 09:41:35.096775</td>\n",
       "    </tr>\n",
       "    <tr>\n",
       "      <th>MedganSynthesizer</th>\n",
       "      <td>-6.833268</td>\n",
       "      <td>-84.380587</td>\n",
       "      <td>2020-04-12 09:41:35.096775</td>\n",
       "    </tr>\n",
       "    <tr>\n",
       "      <th>TableganSynthesizer</th>\n",
       "      <td>-6.777964</td>\n",
       "      <td>-4.931756</td>\n",
       "      <td>2020-04-12 09:41:35.096775</td>\n",
       "    </tr>\n",
       "    <tr>\n",
       "      <th>TVAESynthesizer</th>\n",
       "      <td>-3.388274</td>\n",
       "      <td>-5.190146</td>\n",
       "      <td>2020-04-12 09:41:35.096775</td>\n",
       "    </tr>\n",
       "    <tr>\n",
       "      <th>UniformSynthesizer</th>\n",
       "      <td>-7.294052</td>\n",
       "      <td>-4.534827</td>\n",
       "      <td>2020-04-12 09:41:35.096775</td>\n",
       "    </tr>\n",
       "    <tr>\n",
       "      <th>VEEGANSynthesizer</th>\n",
       "      <td>-8.646858</td>\n",
       "      <td>-423.573276</td>\n",
       "      <td>2020-04-12 09:41:35.096775</td>\n",
       "    </tr>\n",
       "    <tr>\n",
       "      <th>kde_copula_nn_pdf_synthesizer</th>\n",
       "      <td>-6.883709</td>\n",
       "      <td>-4.370678</td>\n",
       "      <td>2020-09-22 06:54:40.222742</td>\n",
       "    </tr>\n",
       "  </tbody>\n",
       "</table>\n",
       "</div>"
      ],
      "text/plain": [
       "                               grid/syn_likelihood  grid/test_likelihood  \\\n",
       "CLBNSynthesizer                          -3.885928             -5.274841   \n",
       "CTGANSynthesizer                         -9.162882             -5.066747   \n",
       "IdentitySynthesizer                      -3.476662             -3.503242   \n",
       "IndependentSynthesizer                   -3.544136             -3.469971   \n",
       "MedganSynthesizer                        -6.833268            -84.380587   \n",
       "TableganSynthesizer                      -6.777964             -4.931756   \n",
       "TVAESynthesizer                          -3.388274             -5.190146   \n",
       "UniformSynthesizer                       -7.294052             -4.534827   \n",
       "VEEGANSynthesizer                        -8.646858           -423.573276   \n",
       "kde_copula_nn_pdf_synthesizer            -6.883709             -4.370678   \n",
       "\n",
       "                                               timestamp  \n",
       "CLBNSynthesizer               2020-04-12 09:41:35.096775  \n",
       "CTGANSynthesizer              2020-04-12 09:41:35.096775  \n",
       "IdentitySynthesizer           2020-04-12 09:41:35.096775  \n",
       "IndependentSynthesizer        2020-04-12 09:41:35.096775  \n",
       "MedganSynthesizer             2020-04-12 09:41:35.096775  \n",
       "TableganSynthesizer           2020-04-12 09:41:35.096775  \n",
       "TVAESynthesizer               2020-04-12 09:41:35.096775  \n",
       "UniformSynthesizer            2020-04-12 09:41:35.096775  \n",
       "VEEGANSynthesizer             2020-04-12 09:41:35.096775  \n",
       "kde_copula_nn_pdf_synthesizer 2020-09-22 06:54:40.222742  "
      ]
     },
     "execution_count": 5,
     "metadata": {},
     "output_type": "execute_result"
    }
   ],
   "source": [
    "scores"
   ]
  },
  {
   "cell_type": "code",
   "execution_count": 6,
   "metadata": {},
   "outputs": [],
   "source": [
    "def kde_copula_nn_pdf_synthesizer(real_data, categorical_columns, ordinal_columns):\n",
    "    # Max's kde copula model with default parameters\n",
    "    \n",
    "    all_features = list(range(real_data.shape[1]))\n",
    "    numerical_features = list(set(all_features) - set(categorical_columns + ordinal_columns))\n",
    "    data = np.float64(real_data)\n",
    "    \n",
    "    n_samples = data.shape[0]\n",
    "    n_features = data.shape[1]\n",
    "    x_min, x_max = set_min_max(data, n_features)\n",
    "    print(x_min, x_max)\n",
    "    #print(data.shape)\n",
    "    \n",
    "    kde = KDECopulaNNPdf(x_min=x_min, x_max=x_max, rho=0.5, clf=MLPClassifier(max_iter=500, early_stopping=True))\n",
    "    kde = kde.fit(data)\n",
    "    \n",
    "    X_gen, sample_weight = kde.sample(n_samples)\n",
    "    \n",
    "    X_gen[:, categorical_columns+ordinal_columns] = np.round(X_gen[:, categorical_columns+ordinal_columns])\n",
    "    X_gen = np.float32(X_gen)\n",
    "    return X_gen\n",
    "\n",
    "def kde_copula_nn_pdf_synthesizer_xgboost(real_data, categorical_columns, ordinal_columns):\n",
    "    # Max's kde copula model with xgboost\n",
    "    \n",
    "    all_features = list(range(real_data.shape[1]))\n",
    "    numerical_features = list(set(all_features) - set(categorical_columns + ordinal_columns))\n",
    "    data = np.float64(real_data)\n",
    "    \n",
    "    n_samples = data.shape[0]\n",
    "    n_features = data.shape[1]\n",
    "    x_min, x_max = set_min_max(data, n_features)\n",
    "    print(x_min, x_max)\n",
    "    #print(data.shape)\n",
    "    \n",
    "    kde = KDECopulaNNPdf(x_min=x_min, x_max=x_max, rho=0.5, clf=XGBClassifier())\n",
    "    kde = kde.fit(data)\n",
    "    \n",
    "    X_gen, sample_weight = kde.sample(n_samples)\n",
    "    \n",
    "    X_gen[:, categorical_columns+ordinal_columns] = np.round(X_gen[:, categorical_columns+ordinal_columns])\n",
    "    X_gen = np.float32(X_gen)\n",
    "    return X_gen\n",
    "\n",
    "def kde_copula_nn_pdf_synthesizer_no_weight(real_data, categorical_columns, ordinal_columns):\n",
    "    # Max's kde copula model with no weights\n",
    "    \n",
    "    all_features = list(range(real_data.shape[1]))\n",
    "    numerical_features = list(set(all_features) - set(categorical_columns + ordinal_columns))\n",
    "    data = np.float64(real_data)\n",
    "    \n",
    "    n_samples = data.shape[0]\n",
    "    n_features = data.shape[1]\n",
    "    x_min, x_max = set_min_max(data, n_features)\n",
    "    print(x_min, x_max)\n",
    "    #print(data.shape)\n",
    "    \n",
    "    kde = KDECopulaNNPdf(x_min=x_min, x_max=x_max, rho=0.5, clf=MLPClassifier(max_iter=500, early_stopping=True))\n",
    "    kde = kde.fit(data)\n",
    "    \n",
    "    X_gen = kde.sample_no_weights(n_samples)\n",
    "    \n",
    "    X_gen[:, categorical_columns+ordinal_columns] = np.round(X_gen[:, categorical_columns+ordinal_columns])\n",
    "    X_gen = np.float32(X_gen)\n",
    "    return X_gen"
   ]
  },
  {
   "cell_type": "code",
   "execution_count": 7,
   "metadata": {},
   "outputs": [
    {
     "name": "stdout",
     "output_type": "stream",
     "text": [
      "[17.0, 0.0, 12285.0, 0.0, 1.0, 0.0, 0.0, 0.0, 0.0, 0.0, 0.0, 0.0, 1.0, 0.0, 0.0] [90.0, 8.0, 1484705.0, 15.0, 16.0, 6.0, 14.0, 5.0, 4.0, 1.0, 99999.0, 4356.0, 99.0, 40.0, 1.0]\n",
      "Transforming variables.\n",
      "Fitting and calibrating classifier.\n",
      "Model = rho: 0.5, number of selected non-linear variables: 14\n"
     ]
    }
   ],
   "source": [
    "df, categorical_columns, ordinal_columns = load_dataset('adult')\n",
    "X_gen = kde_copula_nn_pdf_synthesizer(df, categorical_columns, ordinal_columns)"
   ]
  },
  {
   "cell_type": "code",
   "execution_count": 8,
   "metadata": {},
   "outputs": [
    {
     "name": "stdout",
     "output_type": "stream",
     "text": [
      "[17.0, 0.0, 12285.0, 0.0, 1.0, 0.0, 0.0, 0.0, 0.0, 0.0, 0.0, 0.0, 1.0, 0.0, 0.0] [90.0, 8.0, 1484705.0, 15.0, 16.0, 6.0, 14.0, 5.0, 4.0, 1.0, 99999.0, 4356.0, 99.0, 40.0, 1.0]\n",
      "Transforming variables.\n",
      "Fitting and calibrating classifier.\n",
      "Model = rho: 0.5, number of selected non-linear variables: 14\n"
     ]
    },
    {
     "name": "stderr",
     "output_type": "stream",
     "text": [
      "/Users/lorrainedalmeida/Work/Experiment_Week/synthsonic/env/lib/python3.8/site-packages/sklearn/neural_network/_multilayer_perceptron.py:582: ConvergenceWarning: Stochastic Optimizer: Maximum iterations (50) reached and the optimization hasn't converged yet.\n",
      "  warnings.warn(\n"
     ]
    },
    {
     "name": "stdout",
     "output_type": "stream",
     "text": [
      "[17.0, 0.0, 12285.0, 0.0, 1.0, 0.0, 0.0, 0.0, 0.0, 0.0, 0.0, 0.0, 1.0, 0.0, 0.0] [90.0, 8.0, 1484705.0, 15.0, 16.0, 6.0, 14.0, 5.0, 4.0, 1.0, 99999.0, 4356.0, 99.0, 40.0, 1.0]\n",
      "Transforming variables.\n",
      "Fitting and calibrating classifier.\n",
      "Model = rho: 0.5, number of selected non-linear variables: 14\n"
     ]
    },
    {
     "name": "stderr",
     "output_type": "stream",
     "text": [
      "/Users/lorrainedalmeida/Work/Experiment_Week/synthsonic/env/lib/python3.8/site-packages/sklearn/neural_network/_multilayer_perceptron.py:582: ConvergenceWarning: Stochastic Optimizer: Maximum iterations (50) reached and the optimization hasn't converged yet.\n",
      "  warnings.warn(\n"
     ]
    },
    {
     "name": "stdout",
     "output_type": "stream",
     "text": [
      "[17.0, 0.0, 12285.0, 0.0, 1.0, 0.0, 0.0, 0.0, 0.0, 0.0, 0.0, 0.0, 1.0, 0.0, 0.0] [90.0, 8.0, 1484705.0, 15.0, 16.0, 6.0, 14.0, 5.0, 4.0, 1.0, 99999.0, 4356.0, 99.0, 40.0, 1.0]\n",
      "Transforming variables.\n",
      "Fitting and calibrating classifier.\n",
      "Model = rho: 0.5, number of selected non-linear variables: 14\n"
     ]
    },
    {
     "name": "stderr",
     "output_type": "stream",
     "text": [
      "/Users/lorrainedalmeida/Work/Experiment_Week/synthsonic/env/lib/python3.8/site-packages/sklearn/neural_network/_multilayer_perceptron.py:582: ConvergenceWarning: Stochastic Optimizer: Maximum iterations (50) reached and the optimization hasn't converged yet.\n",
      "  warnings.warn(\n"
     ]
    },
    {
     "name": "stdout",
     "output_type": "stream",
     "text": [
      "[17.0, 0.0, 12285.0, 0.0, 1.0, 0.0, 0.0, 0.0, 0.0, 0.0, 0.0, 0.0, 1.0, 0.0, 0.0] [90.0, 8.0, 1484705.0, 15.0, 16.0, 6.0, 14.0, 5.0, 4.0, 1.0, 99999.0, 4356.0, 99.0, 40.0, 1.0]\n",
      "Transforming variables.\n",
      "Fitting and calibrating classifier.\n",
      "Model = rho: 0.5, number of selected non-linear variables: 14\n"
     ]
    },
    {
     "name": "stderr",
     "output_type": "stream",
     "text": [
      "/Users/lorrainedalmeida/Work/Experiment_Week/synthsonic/env/lib/python3.8/site-packages/sklearn/neural_network/_multilayer_perceptron.py:582: ConvergenceWarning: Stochastic Optimizer: Maximum iterations (50) reached and the optimization hasn't converged yet.\n",
      "  warnings.warn(\n"
     ]
    },
    {
     "name": "stdout",
     "output_type": "stream",
     "text": [
      "[17.0, 0.0, 12285.0, 0.0, 1.0, 0.0, 0.0, 0.0, 0.0, 0.0, 0.0, 0.0, 1.0, 0.0, 0.0] [90.0, 8.0, 1484705.0, 15.0, 16.0, 6.0, 14.0, 5.0, 4.0, 1.0, 99999.0, 4356.0, 99.0, 40.0, 1.0]\n",
      "Transforming variables.\n",
      "Fitting and calibrating classifier.\n",
      "Model = rho: 0.5, number of selected non-linear variables: 14\n"
     ]
    },
    {
     "name": "stderr",
     "output_type": "stream",
     "text": [
      "/Users/lorrainedalmeida/Work/Experiment_Week/synthsonic/env/lib/python3.8/site-packages/sklearn/neural_network/_multilayer_perceptron.py:582: ConvergenceWarning: Stochastic Optimizer: Maximum iterations (50) reached and the optimization hasn't converged yet.\n",
      "  warnings.warn(\n"
     ]
    },
    {
     "name": "stdout",
     "output_type": "stream",
     "text": [
      "[17.0, 0.0, 12285.0, 0.0, 1.0, 0.0, 0.0, 0.0, 0.0, 0.0, 0.0, 0.0, 1.0, 0.0, 0.0] [90.0, 8.0, 1484705.0, 15.0, 16.0, 6.0, 14.0, 5.0, 4.0, 1.0, 99999.0, 4356.0, 99.0, 40.0, 1.0]\n",
      "Transforming variables.\n",
      "Fitting and calibrating classifier.\n",
      "Model = rho: 0.5, number of selected non-linear variables: 14\n"
     ]
    },
    {
     "name": "stderr",
     "output_type": "stream",
     "text": [
      "/Users/lorrainedalmeida/Work/Experiment_Week/synthsonic/env/lib/python3.8/site-packages/sklearn/neural_network/_multilayer_perceptron.py:582: ConvergenceWarning: Stochastic Optimizer: Maximum iterations (50) reached and the optimization hasn't converged yet.\n",
      "  warnings.warn(\n"
     ]
    },
    {
     "name": "stdout",
     "output_type": "stream",
     "text": [
      "[17.0, 0.0, 12285.0, 0.0, 1.0, 0.0, 0.0, 0.0, 0.0, 0.0, 0.0, 0.0, 1.0, 0.0, 0.0] [90.0, 8.0, 1484705.0, 15.0, 16.0, 6.0, 14.0, 5.0, 4.0, 1.0, 99999.0, 4356.0, 99.0, 40.0, 1.0]\n",
      "Transforming variables.\n",
      "Fitting and calibrating classifier.\n",
      "Model = rho: 0.5, number of selected non-linear variables: 14\n"
     ]
    },
    {
     "name": "stderr",
     "output_type": "stream",
     "text": [
      "/Users/lorrainedalmeida/Work/Experiment_Week/synthsonic/env/lib/python3.8/site-packages/sklearn/neural_network/_multilayer_perceptron.py:582: ConvergenceWarning: Stochastic Optimizer: Maximum iterations (50) reached and the optimization hasn't converged yet.\n",
      "  warnings.warn(\n"
     ]
    },
    {
     "name": "stdout",
     "output_type": "stream",
     "text": [
      "[17.0, 0.0, 12285.0, 0.0, 1.0, 0.0, 0.0, 0.0, 0.0, 0.0, 0.0, 0.0, 1.0, 0.0, 0.0] [90.0, 8.0, 1484705.0, 15.0, 16.0, 6.0, 14.0, 5.0, 4.0, 1.0, 99999.0, 4356.0, 99.0, 40.0, 1.0]\n",
      "Transforming variables.\n",
      "Fitting and calibrating classifier.\n",
      "Model = rho: 0.5, number of selected non-linear variables: 14\n"
     ]
    },
    {
     "name": "stderr",
     "output_type": "stream",
     "text": [
      "/Users/lorrainedalmeida/Work/Experiment_Week/synthsonic/env/lib/python3.8/site-packages/sklearn/neural_network/_multilayer_perceptron.py:582: ConvergenceWarning: Stochastic Optimizer: Maximum iterations (50) reached and the optimization hasn't converged yet.\n",
      "  warnings.warn(\n"
     ]
    },
    {
     "name": "stdout",
     "output_type": "stream",
     "text": [
      "[17.0, 0.0, 12285.0, 0.0, 1.0, 0.0, 0.0, 0.0, 0.0, 0.0, 0.0, 0.0, 1.0, 0.0, 0.0] [90.0, 8.0, 1484705.0, 15.0, 16.0, 6.0, 14.0, 5.0, 4.0, 1.0, 99999.0, 4356.0, 99.0, 40.0, 1.0]\n",
      "Transforming variables.\n",
      "Fitting and calibrating classifier.\n",
      "Model = rho: 0.5, number of selected non-linear variables: 14\n"
     ]
    },
    {
     "name": "stderr",
     "output_type": "stream",
     "text": [
      "/Users/lorrainedalmeida/Work/Experiment_Week/synthsonic/env/lib/python3.8/site-packages/sklearn/neural_network/_multilayer_perceptron.py:582: ConvergenceWarning: Stochastic Optimizer: Maximum iterations (50) reached and the optimization hasn't converged yet.\n",
      "  warnings.warn(\n"
     ]
    }
   ],
   "source": [
    "scores = benchmark(synthesizers=[kde_copula_nn_pdf_synthesizer, kde_copula_nn_pdf_synthesizer_no_weight, kde_copula_nn_pdf_synthesizer_xgboost], \n",
    "                   datasets=['adult'])"
   ]
  },
  {
   "cell_type": "code",
   "execution_count": 9,
   "metadata": {},
   "outputs": [
    {
     "data": {
      "text/html": [
       "<div>\n",
       "<style scoped>\n",
       "    .dataframe tbody tr th:only-of-type {\n",
       "        vertical-align: middle;\n",
       "    }\n",
       "\n",
       "    .dataframe tbody tr th {\n",
       "        vertical-align: top;\n",
       "    }\n",
       "\n",
       "    .dataframe thead th {\n",
       "        text-align: right;\n",
       "    }\n",
       "</style>\n",
       "<table border=\"1\" class=\"dataframe\">\n",
       "  <thead>\n",
       "    <tr style=\"text-align: right;\">\n",
       "      <th></th>\n",
       "      <th>adult/accuracy</th>\n",
       "      <th>adult/f1</th>\n",
       "      <th>timestamp</th>\n",
       "    </tr>\n",
       "  </thead>\n",
       "  <tbody>\n",
       "    <tr>\n",
       "      <th>CLBNSynthesizer</th>\n",
       "      <td>0.760117</td>\n",
       "      <td>0.291326</td>\n",
       "      <td>2020-04-12 09:41:35.096775</td>\n",
       "    </tr>\n",
       "    <tr>\n",
       "      <th>CTGANSynthesizer</th>\n",
       "      <td>0.784217</td>\n",
       "      <td>0.597420</td>\n",
       "      <td>2020-04-12 09:41:35.096775</td>\n",
       "    </tr>\n",
       "    <tr>\n",
       "      <th>IdentitySynthesizer</th>\n",
       "      <td>0.825608</td>\n",
       "      <td>0.661600</td>\n",
       "      <td>2020-04-12 09:41:35.096775</td>\n",
       "    </tr>\n",
       "    <tr>\n",
       "      <th>IndependentSynthesizer</th>\n",
       "      <td>0.654425</td>\n",
       "      <td>0.174515</td>\n",
       "      <td>2020-04-12 09:41:35.096775</td>\n",
       "    </tr>\n",
       "    <tr>\n",
       "      <th>MedganSynthesizer</th>\n",
       "      <td>0.593683</td>\n",
       "      <td>0.276167</td>\n",
       "      <td>2020-04-12 09:41:35.096775</td>\n",
       "    </tr>\n",
       "    <tr>\n",
       "      <th>TableganSynthesizer</th>\n",
       "      <td>0.798850</td>\n",
       "      <td>0.426258</td>\n",
       "      <td>2020-04-12 09:41:35.096775</td>\n",
       "    </tr>\n",
       "    <tr>\n",
       "      <th>TVAESynthesizer</th>\n",
       "      <td>0.810817</td>\n",
       "      <td>0.630175</td>\n",
       "      <td>2020-04-12 09:41:35.096775</td>\n",
       "    </tr>\n",
       "    <tr>\n",
       "      <th>UniformSynthesizer</th>\n",
       "      <td>0.500242</td>\n",
       "      <td>0.301878</td>\n",
       "      <td>2020-04-12 09:41:35.096775</td>\n",
       "    </tr>\n",
       "    <tr>\n",
       "      <th>VEEGANSynthesizer</th>\n",
       "      <td>0.718792</td>\n",
       "      <td>0.162142</td>\n",
       "      <td>2020-04-12 09:41:35.096775</td>\n",
       "    </tr>\n",
       "    <tr>\n",
       "      <th>kde_copula_nn_pdf_synthesizer</th>\n",
       "      <td>0.718100</td>\n",
       "      <td>0.532038</td>\n",
       "      <td>2020-09-22 07:01:33.603263</td>\n",
       "    </tr>\n",
       "    <tr>\n",
       "      <th>kde_copula_nn_pdf_synthesizer_no_weight</th>\n",
       "      <td>0.520225</td>\n",
       "      <td>0.451564</td>\n",
       "      <td>2020-09-22 07:01:33.603263</td>\n",
       "    </tr>\n",
       "    <tr>\n",
       "      <th>kde_copula_nn_pdf_synthesizer_xgboost</th>\n",
       "      <td>0.703450</td>\n",
       "      <td>0.519950</td>\n",
       "      <td>2020-09-22 07:01:33.603263</td>\n",
       "    </tr>\n",
       "  </tbody>\n",
       "</table>\n",
       "</div>"
      ],
      "text/plain": [
       "                                         adult/accuracy  adult/f1  \\\n",
       "CLBNSynthesizer                                0.760117  0.291326   \n",
       "CTGANSynthesizer                               0.784217  0.597420   \n",
       "IdentitySynthesizer                            0.825608  0.661600   \n",
       "IndependentSynthesizer                         0.654425  0.174515   \n",
       "MedganSynthesizer                              0.593683  0.276167   \n",
       "TableganSynthesizer                            0.798850  0.426258   \n",
       "TVAESynthesizer                                0.810817  0.630175   \n",
       "UniformSynthesizer                             0.500242  0.301878   \n",
       "VEEGANSynthesizer                              0.718792  0.162142   \n",
       "kde_copula_nn_pdf_synthesizer                  0.718100  0.532038   \n",
       "kde_copula_nn_pdf_synthesizer_no_weight        0.520225  0.451564   \n",
       "kde_copula_nn_pdf_synthesizer_xgboost          0.703450  0.519950   \n",
       "\n",
       "                                                         timestamp  \n",
       "CLBNSynthesizer                         2020-04-12 09:41:35.096775  \n",
       "CTGANSynthesizer                        2020-04-12 09:41:35.096775  \n",
       "IdentitySynthesizer                     2020-04-12 09:41:35.096775  \n",
       "IndependentSynthesizer                  2020-04-12 09:41:35.096775  \n",
       "MedganSynthesizer                       2020-04-12 09:41:35.096775  \n",
       "TableganSynthesizer                     2020-04-12 09:41:35.096775  \n",
       "TVAESynthesizer                         2020-04-12 09:41:35.096775  \n",
       "UniformSynthesizer                      2020-04-12 09:41:35.096775  \n",
       "VEEGANSynthesizer                       2020-04-12 09:41:35.096775  \n",
       "kde_copula_nn_pdf_synthesizer           2020-09-22 07:01:33.603263  \n",
       "kde_copula_nn_pdf_synthesizer_no_weight 2020-09-22 07:01:33.603263  \n",
       "kde_copula_nn_pdf_synthesizer_xgboost   2020-09-22 07:01:33.603263  "
      ]
     },
     "execution_count": 9,
     "metadata": {},
     "output_type": "execute_result"
    }
   ],
   "source": [
    "scores"
   ]
  },
  {
   "cell_type": "code",
   "execution_count": null,
   "metadata": {},
   "outputs": [],
   "source": []
  }
 ],
 "metadata": {
  "kernelspec": {
   "display_name": "Python 3",
   "language": "python",
   "name": "python3"
  },
  "language_info": {
   "codemirror_mode": {
    "name": "ipython",
    "version": 3
   },
   "file_extension": ".py",
   "mimetype": "text/x-python",
   "name": "python",
   "nbconvert_exporter": "python",
   "pygments_lexer": "ipython3",
   "version": "3.8.5"
  }
 },
 "nbformat": 4,
 "nbformat_minor": 4
}
